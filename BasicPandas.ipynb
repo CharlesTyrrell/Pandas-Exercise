{
 "cells": [
  {
   "cell_type": "code",
   "execution_count": 2,
   "id": "fc71f971",
   "metadata": {},
   "outputs": [],
   "source": [
    "import numpy as np\n",
    "import pandas as pd\n",
    "import matplotlib.pyplot as plt\n",
    "import statistics as st\n",
    "from statistics import median, mean\n",
    "from multiprocessing import Process\n",
    "import requests\n",
    "from multiprocessing.pool import ThreadPool as Pool"
   ]
  },
  {
   "cell_type": "code",
   "execution_count": 3,
   "id": "c33c7f53",
   "metadata": {},
   "outputs": [],
   "source": [
    "df = pd.DataFrame(np.random.randn(1000,100)) #row, columns"
   ]
  },
  {
   "cell_type": "code",
   "execution_count": 4,
   "id": "d15d39a5",
   "metadata": {
    "scrolled": true
   },
   "outputs": [
    {
     "name": "stdout",
     "output_type": "stream",
     "text": [
      "-0.03172273760630842\n",
      "-0.07045691772845601\n",
      "3.0394135128135575\n",
      "-3.0914291433194143\n"
     ]
    }
   ],
   "source": [
    "print(median(df[0]))\n",
    "print(mean(df[0]))\n",
    "print(max(df[0]))\n",
    "print(min(df[0]))\n",
    "\n",
    "#plt.table(cellText=df.values, colLabels=df.columns, loc='center')\n",
    "#df.describe()"
   ]
  },
  {
   "cell_type": "markdown",
   "id": "72e3ac6c",
   "metadata": {},
   "source": [
    "## Function that gets max from all medians of a 'chunk'"
   ]
  },
  {
   "cell_type": "code",
   "execution_count": 5,
   "id": "f38b81aa",
   "metadata": {},
   "outputs": [],
   "source": [
    "def chunkMax(chunk) -> float:\n",
    "    if (len(chunk) == 0):\n",
    "        print(\"error: chunk row count == 0\")\n",
    "        return\n",
    "    \n",
    "    chunkMax = median(chunk.iloc[0])\n",
    "    \n",
    "    for i in range(1, len(chunk)) :\n",
    "        med = median(chunk.iloc[i])\n",
    "        if (chunkMax < med):\n",
    "            chunkMax = med\n",
    "    return chunkMax"
   ]
  },
  {
   "cell_type": "code",
   "execution_count": 6,
   "id": "99413cac",
   "metadata": {
    "scrolled": true
   },
   "outputs": [
    {
     "name": "stdout",
     "output_type": "stream",
     "text": [
      "0.4707598208214969\n"
     ]
    }
   ],
   "source": [
    "dfMax = chunkMax(df)\n",
    "print(dfMax)"
   ]
  },
  {
   "cell_type": "markdown",
   "id": "240343b7",
   "metadata": {},
   "source": [
    "# Practice splitting a python dataframe"
   ]
  },
  {
   "cell_type": "code",
   "execution_count": 7,
   "id": "0e633f90",
   "metadata": {},
   "outputs": [],
   "source": [
    "df1 = df.iloc[:500,:]\n",
    "df2 = df.iloc[500:,:]"
   ]
  },
  {
   "cell_type": "code",
   "execution_count": 8,
   "id": "b34a744f",
   "metadata": {},
   "outputs": [
    {
     "name": "stdout",
     "output_type": "stream",
     "text": [
      "0.35477559775060374\n",
      "0.4707598208214969\n"
     ]
    }
   ],
   "source": [
    "df1Max = chunkMax(df1)\n",
    "df2Max = chunkMax(df2)\n",
    "print(df1Max)\n",
    "print(df2Max)"
   ]
  },
  {
   "cell_type": "markdown",
   "id": "05b95c2a",
   "metadata": {},
   "source": [
    "# Using multiprocessing to run multiple dataframes"
   ]
  },
  {
   "cell_type": "code",
   "execution_count": 21,
   "id": "184aa627",
   "metadata": {},
   "outputs": [],
   "source": [
    "def splitdf(df, numSplit):\n",
    "    size = int(len(df) / numSplit)\n",
    "    splitArray = []\n",
    "    for i in range(0, numSplit - 1) :\n",
    "        splitArray.append(df.iloc[size*i:size*i+1])\n",
    "    split\n",
    "    return splitArray"
   ]
  },
  {
   "cell_type": "code",
   "execution_count": 22,
   "id": "a1444301",
   "metadata": {},
   "outputs": [
    {
     "name": "stdout",
     "output_type": "stream",
     "text": [
      "-0.07497396997440425\n",
      "0.02951690208476328\n"
     ]
    }
   ],
   "source": [
    "chunks = splitdf(df, 3)\n",
    "\n",
    "\n",
    "pool = Pool(10)\n",
    "for result in pool.imap_unordered(chunkMax, chunks):\n",
    "    print(result)"
   ]
  },
  {
   "cell_type": "code",
   "execution_count": null,
   "id": "e26a7247",
   "metadata": {},
   "outputs": [],
   "source": []
  },
  {
   "cell_type": "code",
   "execution_count": 11,
   "id": "c01be624",
   "metadata": {},
   "outputs": [
    {
     "name": "stdout",
     "output_type": "stream",
     "text": [
      "('https://pyviz-tutorial.readthedocs.io/de/latest/', 32709)\n",
      "('https://cusy.io/en', 30232)\n",
      "('https://github.com/veit/jupyter-tutorial/', 225869)\n",
      "('https://github.com/veit/pyviz-tutorial/', 198096)\n",
      "('https://jupyter-tutorial.readthedocs.io/en/latest/', 80213)\n"
     ]
    }
   ],
   "source": [
    "sites = [\n",
    "    'https://github.com/veit/jupyter-tutorial/',\n",
    "    'https://jupyter-tutorial.readthedocs.io/en/latest/',\n",
    "    'https://github.com/veit/pyviz-tutorial/',\n",
    "    'https://pyviz-tutorial.readthedocs.io/de/latest/',\n",
    "    'https://cusy.io/en',\n",
    "]\n",
    "\n",
    "def sitesize(url):\n",
    "    with requests.get(url) as u:\n",
    "        return url, len(u.content)\n",
    "\n",
    "pool = Pool(10)\n",
    "for result in pool.imap_unordered(sitesize, sites):\n",
    "    print(result)\n"
   ]
  },
  {
   "cell_type": "code",
   "execution_count": null,
   "id": "7d8dec93",
   "metadata": {},
   "outputs": [],
   "source": []
  },
  {
   "cell_type": "code",
   "execution_count": null,
   "id": "5a23d3f9",
   "metadata": {},
   "outputs": [],
   "source": []
  }
 ],
 "metadata": {
  "kernelspec": {
   "display_name": "Python 3 (ipykernel)",
   "language": "python",
   "name": "python3"
  },
  "language_info": {
   "codemirror_mode": {
    "name": "ipython",
    "version": 3
   },
   "file_extension": ".py",
   "mimetype": "text/x-python",
   "name": "python",
   "nbconvert_exporter": "python",
   "pygments_lexer": "ipython3",
   "version": "3.10.5"
  }
 },
 "nbformat": 4,
 "nbformat_minor": 5
}
