{
 "cells": [
  {
   "cell_type": "code",
   "execution_count": 1,
   "id": "fc71f971",
   "metadata": {},
   "outputs": [],
   "source": [
    "import numpy as np\n",
    "import pandas as pd\n",
    "import matplotlib.pyplot as plt\n",
    "import statistics as st\n",
    "from statistics import median, mean\n",
    "from multiprocessing import Process\n",
    "import requests\n",
    "from multiprocessing.pool import ThreadPool as Pool\n",
    "import timeit"
   ]
  },
  {
   "cell_type": "markdown",
   "id": "a2676cbc",
   "metadata": {},
   "source": [
    "# Intro\n",
    "\n",
    "My plan is to work my way up to timing the speed of finding a maximum using a variable number of processors.\n",
    "\n",
    "My plan:\n",
    "1. Learn how to use python statistics on dataframe rows\n",
    "2. Define a function that find the max of medians on dataframe\n",
    "3. Define a function or find an inbuilt function to split a dataframe (by row)\n",
    "4. Learn the timeit module\n",
    "5. Learn the multiprocessing python module \n",
    "6. Use the the multiprocessing and defined functions to using multiprocessing for seperate chunks of dataframe\n",
    "7. Log relative times of finding the global maximum of medians based on number of processes, and graph\n",
    "\n",
    "..........................................................................................\n",
    "\n",
    "## The Dataframe\n",
    "\n",
    "Uses random numbers to fill dataframe"
   ]
  },
  {
   "cell_type": "code",
   "execution_count": 18,
   "id": "c33c7f53",
   "metadata": {},
   "outputs": [],
   "source": [
    "NumColumns = 100\n",
    "NumRows = 1000\n",
    "\n",
    "df = pd.DataFrame(np.random.randn(NumRows,NumColumns)) #row, columns"
   ]
  },
  {
   "cell_type": "markdown",
   "id": "91fe7ae4",
   "metadata": {},
   "source": [
    "## Practicing Python statistics on Dataframe Rows\n",
    "Simple statistical data on data frame"
   ]
  },
  {
   "cell_type": "code",
   "execution_count": 19,
   "id": "d15d39a5",
   "metadata": {
    "scrolled": true
   },
   "outputs": [
    {
     "name": "stdout",
     "output_type": "stream",
     "text": [
      "Median: -0.0055724782675128145\n",
      "Mean:   -0.018263760961021534\n",
      "Max:    3.146496553331823\n",
      "Min:    -2.96564855468359\n"
     ]
    }
   ],
   "source": [
    "print(\"Median: \" + str(median(df[0])))\n",
    "print(\"Mean:   \" + str(mean(df[0])))\n",
    "print(\"Max:    \" + str(max(df[0])))\n",
    "print(\"Min: \" + str(min(df[0])))\n",
    "\n",
    "#plt.table(cellText=df.values, colLabels=df.columns, loc='center')\n",
    "#df.describe()"
   ]
  },
  {
   "cell_type": "markdown",
   "id": "72e3ac6c",
   "metadata": {},
   "source": [
    "##  Defining a function that gets maximum from all medians of rows in a 'chunk'\n",
    "\n",
    "First get a list of medians from the rows, then get a single maximum of those medians. \n",
    "\n",
    "note:\n",
    "`chunks` are meant to be smaller sections of dataframes that are split apart for multiprocessing"
   ]
  },
  {
   "cell_type": "code",
   "execution_count": 20,
   "id": "f38b81aa",
   "metadata": {},
   "outputs": [],
   "source": [
    "def chunkMax(chunk) -> float:\n",
    "    #Initializing Max to first element \n",
    "    chunkMax = median(chunk.iloc[0])\n",
    "    \n",
    "    for i in range(1, len(chunk)) :\n",
    "        med = median(chunk.iloc[i])\n",
    "        if (chunkMax < med):\n",
    "            chunkMax = med\n",
    "    return chunkMax"
   ]
  },
  {
   "cell_type": "markdown",
   "id": "5cca4682",
   "metadata": {},
   "source": [
    "### Testing the 'chunkMax' function"
   ]
  },
  {
   "cell_type": "code",
   "execution_count": 21,
   "id": "99413cac",
   "metadata": {
    "scrolled": true
   },
   "outputs": [
    {
     "name": "stdout",
     "output_type": "stream",
     "text": [
      "my functions max for all rows: \n",
      "1.393057497564418\n",
      "\n",
      "\n",
      "median for each row, sorted: \n",
      "[1.393057497564418, 0.1737440824377999, -0.13108763662409634, -0.8131365896258467]\n"
     ]
    }
   ],
   "source": [
    "testdf = pd.DataFrame(np.random.randn(4,5))\n",
    "\n",
    "testdfMax = chunkMax(testdf)\n",
    "print(\"my functions max for all rows: \")\n",
    "print(testdfMax)\n",
    "print(\"\\n\")\n",
    "print(\"median for each row, sorted: \")\n",
    "medians = [median(testdf.iloc[0]),median(testdf.iloc[1]),median(testdf.iloc[2]),median(testdf.iloc[3])]\n",
    "\n",
    "medians.sort(reverse=1)\n",
    "print(medians)"
   ]
  },
  {
   "cell_type": "markdown",
   "id": "240343b7",
   "metadata": {},
   "source": [
    "## Splitting a python dataframe"
   ]
  },
  {
   "cell_type": "markdown",
   "id": "08ac7b39",
   "metadata": {},
   "source": [
    "This is the best way I found to split a dataframe by row. I have never done this, so there likely a better way. However, I didn't find any inbuilt functions"
   ]
  },
  {
   "cell_type": "code",
   "execution_count": 6,
   "id": "0e633f90",
   "metadata": {},
   "outputs": [],
   "source": [
    "#Splitting the dataframe into 2 parts\n",
    "df1 = df.iloc[:int(NumRows/2),:] # using number of rows as defined for the main dataframe\n",
    "df2 = df.iloc[int(NumRows/2):,:]"
   ]
  },
  {
   "cell_type": "code",
   "execution_count": 7,
   "id": "b34a744f",
   "metadata": {},
   "outputs": [
    {
     "name": "stdout",
     "output_type": "stream",
     "text": [
      "0.39526734799717683\n",
      "0.4194492555426328\n"
     ]
    }
   ],
   "source": [
    "#splitting row and using my find max median of chunk function to find the max of both smaller chunks\n",
    "df1Max = chunkMax(df1)\n",
    "df2Max = chunkMax(df2)\n",
    "print(df1Max)\n",
    "print(df2Max)"
   ]
  },
  {
   "cell_type": "markdown",
   "id": "05b95c2a",
   "metadata": {},
   "source": [
    "## Function to split dataframe into variable number of chunks\n",
    "\n",
    "Is there a better way to do this? Perhaps a built in function in multiprocessing to split apart a dataframe / list automatically?"
   ]
  },
  {
   "cell_type": "code",
   "execution_count": 8,
   "id": "059cecf2",
   "metadata": {},
   "outputs": [],
   "source": [
    "def splitdf(df, numChunks):\n",
    "    rowsPerChunk = int(len(df) / numChunks)\n",
    "    \n",
    "    chunkArray = []\n",
    "    #iterate through the number of chunks, assign those chunks indices\n",
    "    for i in range(0, numChunks - 1) :\n",
    "        beginInd = rowsPerChunk*i\n",
    "        endInd = rowsPerChunk*i+1\n",
    "        \n",
    "        chunkArray.append(df.iloc[beginInd:endInd]) #this takes rows from index\n",
    "        \n",
    "    chunkArray.append(df.iloc[rowsPerChunk*(numChunks-1):]) #makes sure no rows left out due to rounding at end\n",
    "    \n",
    "    return chunkArray"
   ]
  },
  {
   "cell_type": "markdown",
   "id": "9ef8279f",
   "metadata": {},
   "source": [
    "### Testing result from this function\n",
    "\n",
    "making sure that no rows or number were left out within the 'splitdf' function "
   ]
  },
  {
   "cell_type": "code",
   "execution_count": 9,
   "id": "a1444301",
   "metadata": {},
   "outputs": [
    {
     "name": "stdout",
     "output_type": "stream",
     "text": [
      "this is the global maximum by using one chunk and no multiprocessing: \n",
      "0.4194492555426328\n",
      "this is the gobal maximum using three chunks and multiprocessing: \n",
      "0.39585578448654235\n"
     ]
    }
   ],
   "source": [
    "chunks = splitdf(df, 3)\n",
    "\n",
    "chunkMaxList = [chunkMax(chunk) for chunk in chunks]\n",
    "\n",
    "\n",
    "print(\"this is the global maximum by using one chunk and no multiprocessing: \")\n",
    "print(chunkMax(df))\n",
    "\n",
    "print(\"this is the gobal maximum using three chunks and multiprocessing: \")\n",
    "print(max(chunkMaxList))"
   ]
  },
  {
   "cell_type": "markdown",
   "id": "08a12231",
   "metadata": {},
   "source": [
    "## Practicing using timeit python module"
   ]
  },
  {
   "cell_type": "markdown",
   "id": "1f2cb8ac",
   "metadata": {},
   "source": [
    "### Timing basic chunk max function"
   ]
  },
  {
   "cell_type": "code",
   "execution_count": 10,
   "id": "9f852c66",
   "metadata": {
    "scrolled": false
   },
   "outputs": [
    {
     "name": "stdout",
     "output_type": "stream",
     "text": [
      "Elapsed time: 0.065 ms\n"
     ]
    }
   ],
   "source": [
    "#initial time\n",
    "begin = timeit.default_timer()\n",
    "res = chunkMax(df)\n",
    "#end time\n",
    "end = timeit.default_timer()\n",
    "\n",
    "elapsed = round((end - begin), 3)\n",
    "print(f\"Elapsed time: {elapsed} ms\")"
   ]
  },
  {
   "cell_type": "markdown",
   "id": "ca2ad570",
   "metadata": {},
   "source": [
    "## Practicing using multiprocessing"
   ]
  },
  {
   "cell_type": "code",
   "execution_count": 11,
   "id": "c1373979",
   "metadata": {},
   "outputs": [
    {
     "name": "stdout",
     "output_type": "stream",
     "text": [
      "global maximum by using one chunk, no multiprocessing: \n",
      "0.4194492555426328\n",
      "global maximum by using three chunks and multiprocessing: \n",
      "0.39585578448654235\n"
     ]
    }
   ],
   "source": [
    "pool = Pool(3)\n",
    "chunkMaxes = []\n",
    "for result in pool.imap_unordered(chunkMax, chunks):\n",
    "    chunkMaxes.append(result)\n",
    "    \n",
    "print(\"global maximum by using one chunk, no multiprocessing: \")\n",
    "print(chunkMax(df))\n",
    "print(\"global maximum by using three chunks and multiprocessing: \")\n",
    "print (max(chunkMaxes))"
   ]
  },
  {
   "cell_type": "markdown",
   "id": "e661c1c1",
   "metadata": {},
   "source": [
    "### Timing Multiprocessing"
   ]
  },
  {
   "cell_type": "code",
   "execution_count": 12,
   "id": "0c406869",
   "metadata": {},
   "outputs": [
    {
     "name": "stdout",
     "output_type": "stream",
     "text": [
      "time with 3 processes: \n",
      "Elapsed time: 0.022 ms\n"
     ]
    }
   ],
   "source": [
    "begin = timeit.default_timer()\n",
    "\n",
    "chunks = splitdf(df, 3)\n",
    "pool = Pool(3)\n",
    "chunkMaxes = []\n",
    "for result in pool.imap_unordered(chunkMax, chunks):\n",
    "    chunkMaxes.append(result)\n",
    "\n",
    "end = timeit.default_timer()\n",
    "\n",
    "elapsed = round((end - begin), 3)\n",
    "print(\"time with 3 processes: \")\n",
    "print(f\"Elapsed time: {elapsed} ms\")"
   ]
  },
  {
   "cell_type": "code",
   "execution_count": 13,
   "id": "71c4fd49",
   "metadata": {
    "scrolled": true
   },
   "outputs": [
    {
     "name": "stdout",
     "output_type": "stream",
     "text": [
      "time with 12 processes: \n",
      "Elapsed time: 0.012 ms\n"
     ]
    }
   ],
   "source": [
    "begin = timeit.default_timer()\n",
    "\n",
    "chunks = splitdf(df, 12)\n",
    "pool = Pool(12)\n",
    "chunkMaxes = []\n",
    "for result in pool.imap_unordered(chunkMax, chunks):\n",
    "    chunkMaxes.append(result)\n",
    "\n",
    "end = timeit.default_timer()\n",
    "\n",
    "elapsed = round((end - begin), 3)\n",
    "print(\"time with 12 processes: \")\n",
    "print(f\"Elapsed time: {elapsed} ms\")"
   ]
  },
  {
   "cell_type": "markdown",
   "id": "10916453",
   "metadata": {},
   "source": [
    "## Pretty Outputs\n",
    "\n",
    "putting it all together, with a graph to show dropoff of time versus processes"
   ]
  },
  {
   "cell_type": "code",
   "execution_count": 16,
   "id": "9bdebfad",
   "metadata": {},
   "outputs": [
    {
     "name": "stdout",
     "output_type": "stream",
     "text": [
      "[0.107, 0.055, 0.029, 0.021, 0.016, 0.014, 0.013, 0.012, 0.012, 0.011, 0.011, 0.011, 0.011, 0.01, 0.011, 0.011, 0.012, 0.011, 0.01, 0.01, 0.01, 0.01, 0.01, 0.011, 0.01, 0.01, 0.012, 0.011, 0.012, 0.012, 0.012, 0.012, 0.012, 0.012, 0.063, 0.018, 0.017, 0.014, 0.014, 0.015, 0.013, 0.014, 0.015, 0.014, 0.016, 0.015, 0.016, 0.016, 0.017, 0.016]\n"
     ]
    },
    {
     "data": {
      "image/png": "[encoded data removed]",
      "text/plain": [
       "<Figure size 640x480 with 1 Axes>"
      ]
     },
     "metadata": {},
     "output_type": "display_data"
    }
   ],
   "source": [
    "maxProcesses = 50\n",
    "times = []\n",
    "\n",
    "# Log time for case with no multiprocessing\n",
    "begin = timeit.default_timer()\n",
    "res = chunkMax(df)\n",
    "end = timeit.default_timer()\n",
    "\n",
    "times.append(round((end - begin), 3))\n",
    "\n",
    "# For each number of processes, run the find max program with multiprocessing, log the time to do so\n",
    "for i in range(1, maxProcesses):\n",
    "\n",
    "    begin = timeit.default_timer()\n",
    "\n",
    "    chunks = splitdf(df, i)\n",
    "    pool = Pool(i)\n",
    "    chunkMaxes = []\n",
    "    for result in pool.imap_unordered(chunkMax, chunks):\n",
    "        chunkMaxes.append(result)\n",
    "    \n",
    "    end = timeit.default_timer()\n",
    "\n",
    "    times.append(round((end - begin), 3))\n",
    "\n",
    "print(times)\n",
    "processNums = list(range(0, maxProcesses))\n",
    "\n",
    "plt.plot(processNums, times)\n",
    "plt.xlabel('Number of processes')#, fontweight='bold', color = 'orange', fontsize='17', horizontalalignment='center')\n",
    "plt.ylabel('Run Time (ms)')\n",
    "plt.title(\"Number of Process vs Run Time (ms)\")\n",
    "plt.xticks(np.arange(0, maxProcesses, 2))\n",
    "plt.show()"
   ]
  }
 ],
 "metadata": {
  "kernelspec": {
   "display_name": "Python 3 (ipykernel)",
   "language": "python",
   "name": "python3"
  },
  "language_info": {
   "codemirror_mode": {
    "name": "ipython",
    "version": 3
   },
   "file_extension": ".py",
   "mimetype": "text/x-python",
   "name": "python",
   "nbconvert_exporter": "python",
   "pygments_lexer": "ipython3",
   "version": "3.10.5"
  }
 },
 "nbformat": 4,
 "nbformat_minor": 5
}
