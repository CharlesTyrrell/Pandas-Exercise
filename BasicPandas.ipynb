{
 "cells": [
  {
   "cell_type": "code",
   "execution_count": 1,
   "id": "fc71f971",
   "metadata": {},
   "outputs": [],
   "source": [
    "import numpy as np\n",
    "import pandas as pd\n",
    "import matplotlib.pyplot as plt\n",
    "import statistics as st\n",
    "from statistics import median, mean\n",
    "from multiprocessing import Process\n",
    "import requests\n",
    "from multiprocessing.pool import ThreadPool as Pool\n",
    "import timeit"
   ]
  },
  {
   "cell_type": "markdown",
   "id": "91fe7ae4",
   "metadata": {},
   "source": [
    "## Practice using python statistics on Dataframe Rows"
   ]
  },
  {
   "cell_type": "code",
   "execution_count": 2,
   "id": "c33c7f53",
   "metadata": {},
   "outputs": [],
   "source": [
    "df = pd.DataFrame(np.random.randn(1000,100)) #row, columns"
   ]
  },
  {
   "cell_type": "code",
   "execution_count": 3,
   "id": "d15d39a5",
   "metadata": {
    "scrolled": true
   },
   "outputs": [
    {
     "name": "stdout",
     "output_type": "stream",
     "text": [
      "0.005252253536392111\n",
      "-0.00032601021902662757\n",
      "2.8389332727464627\n",
      "-3.6704888091053975\n"
     ]
    }
   ],
   "source": [
    "print(median(df[0]))\n",
    "print(mean(df[0]))\n",
    "print(max(df[0]))\n",
    "print(min(df[0]))\n",
    "\n",
    "#plt.table(cellText=df.values, colLabels=df.columns, loc='center')\n",
    "#df.describe()"
   ]
  },
  {
   "cell_type": "markdown",
   "id": "72e3ac6c",
   "metadata": {},
   "source": [
    "## Function that gets maximum from all medians of rows in a 'chunk'"
   ]
  },
  {
   "cell_type": "code",
   "execution_count": 4,
   "id": "f38b81aa",
   "metadata": {},
   "outputs": [],
   "source": [
    "def chunkMax(chunk) -> float:\n",
    "    if (len(chunk) == 0):\n",
    "        print(\"error: chunk row count == 0\")\n",
    "        return\n",
    "    \n",
    "    chunkMax = median(chunk.iloc[0])\n",
    "    \n",
    "    for i in range(1, len(chunk)) :\n",
    "        med = median(chunk.iloc[i])\n",
    "        if (chunkMax < med):\n",
    "            chunkMax = med\n",
    "    return chunkMax"
   ]
  },
  {
   "cell_type": "code",
   "execution_count": 5,
   "id": "99413cac",
   "metadata": {
    "scrolled": true
   },
   "outputs": [
    {
     "name": "stdout",
     "output_type": "stream",
     "text": [
      "0.3915551515940886\n"
     ]
    }
   ],
   "source": [
    "dfMax = chunkMax(df)\n",
    "print(dfMax)"
   ]
  },
  {
   "cell_type": "markdown",
   "id": "240343b7",
   "metadata": {},
   "source": [
    "## Practice splitting a python dataframe"
   ]
  },
  {
   "cell_type": "code",
   "execution_count": 6,
   "id": "0e633f90",
   "metadata": {},
   "outputs": [],
   "source": [
    "df1 = df.iloc[:500,:]\n",
    "df2 = df.iloc[500:,:]"
   ]
  },
  {
   "cell_type": "code",
   "execution_count": 7,
   "id": "b34a744f",
   "metadata": {},
   "outputs": [
    {
     "name": "stdout",
     "output_type": "stream",
     "text": [
      "0.3837464724013448\n",
      "0.3915551515940886\n"
     ]
    }
   ],
   "source": [
    "df1Max = chunkMax(df1)\n",
    "df2Max = chunkMax(df2)\n",
    "print(df1Max)\n",
    "print(df2Max)"
   ]
  },
  {
   "cell_type": "markdown",
   "id": "05b95c2a",
   "metadata": {},
   "source": [
    "## Function to split dataframe into certain number of chunks"
   ]
  },
  {
   "cell_type": "markdown",
   "id": "6945583a",
   "metadata": {},
   "source": [
    "There may be a better way to do this, but I haven't found out how"
   ]
  },
  {
   "cell_type": "code",
   "execution_count": 8,
   "id": "059cecf2",
   "metadata": {},
   "outputs": [],
   "source": [
    "def splitdf(df, numSplit):\n",
    "    size = int(len(df) / numSplit)\n",
    "    splitArray = []\n",
    "    for i in range(0, numSplit - 1) :\n",
    "        splitArray.append(df.iloc[size*i:size*i+1])\n",
    "    splitArray.append(df.iloc[size*(numSplit-1):size*numSplit])\n",
    "    return splitArray"
   ]
  },
  {
   "cell_type": "code",
   "execution_count": 9,
   "id": "a1444301",
   "metadata": {},
   "outputs": [
    {
     "name": "stdout",
     "output_type": "stream",
     "text": [
      "this is the gobal maximum of all medians:\n",
      "0.3915551515940886\n"
     ]
    }
   ],
   "source": [
    "chunks = splitdf(df, 3)\n",
    "\n",
    "\n",
    "pool = Pool(10)\n",
    "chunkMaxes = []\n",
    "for result in pool.imap_unordered(chunkMax, chunks):\n",
    "    chunkMaxes.append(result)\n",
    "\n",
    "print(\"this is the gobal maximum of all medians:\")\n",
    "print(max(chunkMaxes))\n"
   ]
  },
  {
   "cell_type": "markdown",
   "id": "08a12231",
   "metadata": {},
   "source": [
    "## Practicing using timeit python module"
   ]
  },
  {
   "cell_type": "code",
   "execution_count": 13,
   "id": "9f852c66",
   "metadata": {
    "scrolled": false
   },
   "outputs": [
    {
     "name": "stdout",
     "output_type": "stream",
     "text": [
      "Elapsed time: 0.13821260000000002 ms\n"
     ]
    }
   ],
   "source": [
    "t_0 = timeit.default_timer()\n",
    "# call function\n",
    "res = chunkMax(df)\n",
    "# record end time\n",
    "t_1 = timeit.default_timer()\n",
    "\n",
    "elapsed_time = round((t_1 - t_0) * 10 ** 6, 3) / 1000000\n",
    "print(f\"Elapsed time: {elapsed_time} ms\")"
   ]
  },
  {
   "cell_type": "code",
   "execution_count": 14,
   "id": "0c406869",
   "metadata": {},
   "outputs": [
    {
     "name": "stdout",
     "output_type": "stream",
     "text": [
      "Elapsed time: 0.024041 ms\n"
     ]
    }
   ],
   "source": [
    "t_0 = timeit.default_timer()\n",
    "# call function\n",
    "chunks = splitdf(df, 3)\n",
    "pool = Pool(10)\n",
    "chunkMaxes = []\n",
    "for result in pool.imap_unordered(chunkMax, chunks):\n",
    "    chunkMaxes.append(result)\n",
    "# record end time\n",
    "t_1 = timeit.default_timer()\n",
    "\n",
    "elapsed_time = round((t_1 - t_0) * 10 ** 6, 3) / 1000000\n",
    "print(f\"Elapsed time: {elapsed_time} ms\")"
   ]
  },
  {
   "cell_type": "code",
   "execution_count": 16,
   "id": "71c4fd49",
   "metadata": {},
   "outputs": [
    {
     "name": "stdout",
     "output_type": "stream",
     "text": [
      "Elapsed time: 0.0188188 ms\n"
     ]
    }
   ],
   "source": [
    "t_0 = timeit.default_timer()\n",
    "# call function\n",
    "chunks = splitdf(df, 12)\n",
    "pool = Pool(10)\n",
    "chunkMaxes = []\n",
    "for result in pool.imap_unordered(chunkMax, chunks):\n",
    "    chunkMaxes.append(result)\n",
    "# record end time\n",
    "t_1 = timeit.default_timer()\n",
    "\n",
    "elapsed_time = round((t_1 - t_0) * 10 ** 6, 3) / 1000000\n",
    "print(f\"Elapsed time: {elapsed_time} ms\")"
   ]
  },
  {
   "cell_type": "code",
   "execution_count": null,
   "id": "a5f0edb1",
   "metadata": {},
   "outputs": [],
   "source": []
  }
 ],
 "metadata": {
  "kernelspec": {
   "display_name": "Python 3 (ipykernel)",
   "language": "python",
   "name": "python3"
  },
  "language_info": {
   "codemirror_mode": {
    "name": "ipython",
    "version": 3
   },
   "file_extension": ".py",
   "mimetype": "text/x-python",
   "name": "python",
   "nbconvert_exporter": "python",
   "pygments_lexer": "ipython3",
   "version": "3.10.5"
  }
 },
 "nbformat": 4,
 "nbformat_minor": 5
}
