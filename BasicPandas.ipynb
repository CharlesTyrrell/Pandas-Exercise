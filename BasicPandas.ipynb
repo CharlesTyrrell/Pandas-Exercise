{
 "cells": [
  {
   "cell_type": "code",
   "execution_count": 67,
   "id": "fc71f971",
   "metadata": {},
   "outputs": [],
   "source": [
    "import numpy as np\n",
    "import pandas as pd\n",
    "import matplotlib.pyplot as plt\n",
    "import statistics as st\n",
    "from statistics import median, mean\n",
    "from multiprocessing import Process\n",
    "import requests\n",
    "from multiprocessing.pool import ThreadPool as Pool\n",
    "import timeit"
   ]
  },
  {
   "cell_type": "markdown",
   "id": "91fe7ae4",
   "metadata": {},
   "source": [
    "## Practice using python statistics on Dataframe Rows"
   ]
  },
  {
   "cell_type": "markdown",
   "id": "5b561337",
   "metadata": {},
   "source": [
    "initializing dataframe"
   ]
  },
  {
   "cell_type": "code",
   "execution_count": 125,
   "id": "c33c7f53",
   "metadata": {},
   "outputs": [],
   "source": [
    "NumColumns = 100\n",
    "NumRows = 1000\n",
    "\n",
    "df = pd.DataFrame(np.random.randn(NumRows,NumColumns)) #row, columns"
   ]
  },
  {
   "cell_type": "markdown",
   "id": "642f8180",
   "metadata": {},
   "source": [
    "Simple statistical data on data frame"
   ]
  },
  {
   "cell_type": "code",
   "execution_count": 126,
   "id": "d15d39a5",
   "metadata": {
    "scrolled": true
   },
   "outputs": [
    {
     "name": "stdout",
     "output_type": "stream",
     "text": [
      "Median: -0.03791978445224502\n",
      "Mean:   -0.03582999951536705\n",
      "Max:    3.435540237891692\n",
      "Min:    -2.937065553274843\n"
     ]
    }
   ],
   "source": [
    "print(\"Median: \" + str(median(df[0])))\n",
    "print(\"Mean:   \" + str(mean(df[0])))\n",
    "print(\"Max:    \" + str(max(df[0])))\n",
    "print(\"Min:    \" + str(min(df[0])))\n",
    "\n",
    "#plt.table(cellText=df.values, colLabels=df.columns, loc='center')\n",
    "#df.describe()"
   ]
  },
  {
   "cell_type": "markdown",
   "id": "72e3ac6c",
   "metadata": {},
   "source": [
    "##  Defining a function that gets maximum from all medians of rows in a 'chunk'"
   ]
  },
  {
   "cell_type": "code",
   "execution_count": 70,
   "id": "f38b81aa",
   "metadata": {},
   "outputs": [],
   "source": [
    "def chunkMax(chunk) -> float:\n",
    "    #Initializing Max to first element \n",
    "    chunkMax = median(chunk.iloc[0])\n",
    "    \n",
    "    for i in range(1, len(chunk)) :\n",
    "        med = median(chunk.iloc[i])\n",
    "        if (chunkMax < med):\n",
    "            chunkMax = med\n",
    "    return chunkMax"
   ]
  },
  {
   "cell_type": "markdown",
   "id": "707c350c",
   "metadata": {},
   "source": [
    "### Testing the function"
   ]
  },
  {
   "cell_type": "markdown",
   "id": "cb8bcd25",
   "metadata": {},
   "source": [
    "Here I am comparing my function's found maximum, to all of the rows of a test dataframe, to see if the maximum matches"
   ]
  },
  {
   "cell_type": "code",
   "execution_count": 71,
   "id": "99413cac",
   "metadata": {
    "scrolled": true
   },
   "outputs": [
    {
     "name": "stdout",
     "output_type": "stream",
     "text": [
      "my functions max for all rows: \n",
      "0.31455736867006584\n",
      "\n",
      "\n",
      "median for each row: \n",
      "-0.9182291545459442\n",
      "0.31455736867006584\n",
      "0.16262573409742037\n",
      "-0.16243389418893264\n"
     ]
    }
   ],
   "source": [
    "testdf = pd.DataFrame(np.random.randn(4,5))\n",
    "\n",
    "testdfMax = chunkMax(testdf)\n",
    "print(\"my functions max for all rows: \")\n",
    "print(testdfMax)\n",
    "print(\"\\n\")\n",
    "print(\"median for each row: \")\n",
    "print(median(testdf.iloc[0]))\n",
    "print(median(testdf.iloc[1]))\n",
    "print(median(testdf.iloc[2]))\n",
    "print(median(testdf.iloc[3]))"
   ]
  },
  {
   "cell_type": "markdown",
   "id": "240343b7",
   "metadata": {},
   "source": [
    "## Practice splitting a python dataframe"
   ]
  },
  {
   "cell_type": "markdown",
   "id": "fe149bee",
   "metadata": {},
   "source": [
    "This is the best way I found to split a dataframe by row. (i.e. I didn't find any inbuilt functions)"
   ]
  },
  {
   "cell_type": "code",
   "execution_count": 73,
   "id": "0e633f90",
   "metadata": {},
   "outputs": [],
   "source": [
    "#Splitting the dataframe into 2 parts\n",
    "df1 = df.iloc[:int(NumRows/2),:]\n",
    "df2 = df.iloc[int(NumRows/2):,:]"
   ]
  },
  {
   "cell_type": "code",
   "execution_count": 74,
   "id": "b34a744f",
   "metadata": {},
   "outputs": [
    {
     "name": "stdout",
     "output_type": "stream",
     "text": [
      "0.3111812586296966\n",
      "0.3635871539469633\n"
     ]
    }
   ],
   "source": [
    "df1Max = chunkMax(df1)\n",
    "df2Max = chunkMax(df2)\n",
    "print(df1Max)\n",
    "print(df2Max)"
   ]
  },
  {
   "cell_type": "markdown",
   "id": "05b95c2a",
   "metadata": {},
   "source": [
    "## Function to split dataframe into certain number of chunks\n",
    "\n",
    "Is there a better way to do this? Perhaps a built in function in multiprocessing to split apart a dataframe / list automatically?"
   ]
  },
  {
   "cell_type": "code",
   "execution_count": 88,
   "id": "059cecf2",
   "metadata": {},
   "outputs": [],
   "source": [
    "def splitdf(df, numChunks):\n",
    "    rowsPerChunk = int(len(df) / numChunks)\n",
    "    \n",
    "    chunkArray = []\n",
    "    #iterate through the number of chunks, assign those chunks indices\n",
    "    for i in range(0, numChunks - 1) :\n",
    "        beginInd = rowsPerChunk*i\n",
    "        endInd = rowsPerChunk*i+1\n",
    "        \n",
    "        chunkArray.append(df.iloc[beginInd:endInd]) #this takes rows from index\n",
    "        \n",
    "    chunkArray.append(df.iloc[rowsPerChunk*(numChunks-1):]) #makes sure no rows left out due to rounding at end\n",
    "    \n",
    "    return splitArray"
   ]
  },
  {
   "cell_type": "markdown",
   "id": "35d11bf3",
   "metadata": {},
   "source": [
    "### Testing result from this function\n",
    "\n",
    "making sure that no rows or number were left out within the 'splitdf' function "
   ]
  },
  {
   "cell_type": "code",
   "execution_count": 95,
   "id": "a1444301",
   "metadata": {},
   "outputs": [
    {
     "name": "stdout",
     "output_type": "stream",
     "text": [
      "this is the global maximum by using one chunk: \n",
      "0.3635871539469633\n",
      "this is the gobal maximum using three chunks and multiprocessing: \n",
      "0.3635871539469633\n"
     ]
    }
   ],
   "source": [
    "chunks = splitdf(df, 3)\n",
    "\n",
    "chunkMaxList = [chunkMax(chunk) for chunk in chunks]\n",
    "\n",
    "print(\"this is the global maximum by using one chunk: \")\n",
    "print(chunkMax(df))\n",
    "\n",
    "print(\"this is the gobal maximum using three chunks and multiprocessing: \")\n",
    "print(max(chunkMaxList))"
   ]
  },
  {
   "cell_type": "markdown",
   "id": "08a12231",
   "metadata": {},
   "source": [
    "## Practicing using timeit python module"
   ]
  },
  {
   "cell_type": "markdown",
   "id": "897a5b84",
   "metadata": {},
   "source": [
    "### Timing basic chunk max function"
   ]
  },
  {
   "cell_type": "code",
   "execution_count": 106,
   "id": "9f852c66",
   "metadata": {
    "scrolled": false
   },
   "outputs": [
    {
     "name": "stdout",
     "output_type": "stream",
     "text": [
      "Elapsed time: -0.215 ms\n"
     ]
    }
   ],
   "source": [
    "#initial time\n",
    "begin = timeit.default_timer()\n",
    "res = chunkMax(df)\n",
    "#end time\n",
    "end = timeit.default_timer()\n",
    "\n",
    "elapsed = round((end - begin), 3)\n",
    "print(f\"Elapsed time: {elapsed} ms\")"
   ]
  },
  {
   "cell_type": "markdown",
   "id": "f7057dd5",
   "metadata": {},
   "source": [
    "## Practicing using multiprocessing"
   ]
  },
  {
   "cell_type": "code",
   "execution_count": 109,
   "id": "8e82a751",
   "metadata": {},
   "outputs": [
    {
     "name": "stdout",
     "output_type": "stream",
     "text": [
      "global maximum by using one chunk, no multiprocessing: \n",
      "0.3635871539469633\n",
      "global maximum by using three chunks and multiprocessing: \n",
      "0.3635871539469633\n"
     ]
    }
   ],
   "source": [
    "pool = Pool(3)\n",
    "chunkMaxes = []\n",
    "for result in pool.imap_unordered(chunkMax, chunks):\n",
    "    chunkMaxes.append(result)\n",
    "    \n",
    "print(\"global maximum by using one chunk, no multiprocessing: \")\n",
    "print(chunkMax(df))\n",
    "print(\"global maximum by using three chunks and multiprocessing: \")\n",
    "print (max(chunkMaxes))"
   ]
  },
  {
   "cell_type": "markdown",
   "id": "618261d8",
   "metadata": {},
   "source": [
    "### Timing Multiprocessing"
   ]
  },
  {
   "cell_type": "code",
   "execution_count": 113,
   "id": "0c406869",
   "metadata": {},
   "outputs": [
    {
     "name": "stdout",
     "output_type": "stream",
     "text": [
      "time with 3 processes: \n",
      "Elapsed time: 0.029 ms\n"
     ]
    }
   ],
   "source": [
    "begin = timeit.default_timer()\n",
    "\n",
    "chunks = splitdf(df, 3)\n",
    "pool = Pool(3)\n",
    "chunkMaxes = []\n",
    "for result in pool.imap_unordered(chunkMax, chunks):\n",
    "    chunkMaxes.append(result)\n",
    "\n",
    "end = timeit.default_timer()\n",
    "\n",
    "elapsed = round((end - begin), 3)\n",
    "print(\"time with 3 processes: \")\n",
    "print(f\"Elapsed time: {elapsed} ms\")"
   ]
  },
  {
   "cell_type": "code",
   "execution_count": 116,
   "id": "71c4fd49",
   "metadata": {
    "scrolled": true
   },
   "outputs": [
    {
     "name": "stdout",
     "output_type": "stream",
     "text": [
      "time with 12 processes: \n",
      "Elapsed time: 0.027 ms\n"
     ]
    }
   ],
   "source": [
    "begin = timeit.default_timer()\n",
    "\n",
    "chunks = splitdf(df, 12)\n",
    "pool = Pool(12)\n",
    "chunkMaxes = []\n",
    "for result in pool.imap_unordered(chunkMax, chunks):\n",
    "    chunkMaxes.append(result)\n",
    "\n",
    "end = timeit.default_timer()\n",
    "\n",
    "elapsed = round((end - begin), 3)\n",
    "print(\"time with 12 processes: \")\n",
    "print(f\"Elapsed time: {elapsed} ms\")"
   ]
  },
  {
   "cell_type": "markdown",
   "id": "ecd5f7b0",
   "metadata": {},
   "source": [
    "## Pretty Outputs\n",
    "\n",
    "putting it all together, with a graph to show dropoff of time versus processes"
   ]
  },
  {
   "cell_type": "code",
   "execution_count": 124,
   "id": "f6253b65",
   "metadata": {},
   "outputs": [
    {
     "name": "stdout",
     "output_type": "stream",
     "text": [
      "[0.226, 0.066, 0.03, 0.021, 0.017, 0.015, 0.013, 0.013, 0.012, 0.011, 0.01, 0.011, 0.009, 0.01, 0.01, 0.009, 0.01, 0.01, 0.01, 0.011, 0.009, 0.011, 0.01, 0.012, 0.012, 0.011, 0.012, 0.012, 0.013, 0.012, 0.012, 0.012, 0.012, 0.012, 0.013, 0.014, 0.014, 0.013, 0.014, 0.014]\n"
     ]
    },
    {
     "data": {
      "text/plain": [
       "Text(0.5, 1.0, 'Number of Process vs Run Time (ms)')"
      ]
     },
     "execution_count": 124,
     "metadata": {},
     "output_type": "execute_result"
    },
    {
     "data": {
      "image/png": "[encoded data removed]",
      "text/plain": [
       "<Figure size 640x480 with 1 Axes>"
      ]
     },
     "metadata": {},
     "output_type": "display_data"
    }
   ],
   "source": [
    "maxProcesses = 40\n",
    "times = []\n",
    "\n",
    "# Log time for case with no multiprocessing\n",
    "begin = timeit.default_timer()\n",
    "res = chunkMax(df)\n",
    "end = timeit.default_timer()\n",
    "\n",
    "times.append(round((end - begin), 3))\n",
    "\n",
    "# For each number of processes, run the find max program with multiprocessing, log the time to do so\n",
    "for i in range(1, maxProcesses):\n",
    "\n",
    "    begin = timeit.default_timer()\n",
    "\n",
    "    chunks = splitdf(df, i)\n",
    "    pool = Pool(i)\n",
    "    chunkMaxes = []\n",
    "    for result in pool.imap_unordered(chunkMax, chunks):\n",
    "        chunkMaxes.append(result)\n",
    "    \n",
    "    end = timeit.default_timer()\n",
    "\n",
    "    times.append(round((end - begin), 3))\n",
    "\n",
    "print(times)\n",
    "processNums = list(range(0, maxProcesses))\n",
    "\n",
    "plt.plot(processNums, times)\n",
    "plt.xlabel('Number of processes')#, fontweight='bold', color = 'orange', fontsize='17', horizontalalignment='center')\n",
    "plt.ylabel('Run Time (ms)')\n",
    "plt.title(\"Number of Process vs Run Time (ms)\")"
   ]
  },
  {
   "cell_type": "markdown",
   "id": "028be0b2",
   "metadata": {},
   "source": [
    "The graph bottoms out at about 12 processes. Although I only have 6 cores on my computer, I do have 12 proccesors"
   ]
  },
  {
   "cell_type": "code",
   "execution_count": null,
   "id": "ccb3ffe2",
   "metadata": {},
   "outputs": [],
   "source": []
  }
 ],
 "metadata": {
  "kernelspec": {
   "display_name": "Python 3 (ipykernel)",
   "language": "python",
   "name": "python3"
  },
  "language_info": {
   "codemirror_mode": {
    "name": "ipython",
    "version": 3
   },
   "file_extension": ".py",
   "mimetype": "text/x-python",
   "name": "python",
   "nbconvert_exporter": "python",
   "pygments_lexer": "ipython3",
   "version": "3.10.5"
  }
 },
 "nbformat": 4,
 "nbformat_minor": 5
}
